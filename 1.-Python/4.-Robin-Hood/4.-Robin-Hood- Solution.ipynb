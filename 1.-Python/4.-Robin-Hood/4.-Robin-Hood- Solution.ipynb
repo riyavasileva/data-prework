{
 "cells": [
  {
   "cell_type": "code",
   "execution_count": 1,
   "metadata": {},
   "outputs": [],
   "source": [
    "points = [(4, 5), (-0, 2), (4, 7), (1, -3), (3, -2), (4, 5), (3, 2), (5, 7), (-5, 7), (2, 2), (-4, 5), (0, -2),\n",
    "          (-4, 7), (-1, 3), (-3, 2), (-4, -5), (-3, 2), (5, 7), (5, 7), (2, 2), (9, 9), (-8, -9)]"
   ]
  },
  {
   "cell_type": "code",
   "execution_count": 4,
   "metadata": {},
   "outputs": [
    {
     "name": "stdout",
     "output_type": "stream",
     "text": [
      "{(-5, 7), (3, -2), (-4, 7), (-4, 5), (9, 9), (5, 7), (4, 5), (0, 2), (1, -3), (-1, 3), (-4, -5), (2, 2), (-3, 2), (3, 2), (-8, -9), (0, -2), (4, 7)}\n"
     ]
    }
   ],
   "source": [
    "coordinates_points=set(points)\n",
    "print (coordinates_points)\n",
    "\n",
    "#couldn't figure out how to leave the duplicates....\n"
   ]
  },
  {
   "cell_type": "code",
   "execution_count": 5,
   "metadata": {},
   "outputs": [
    {
     "name": "stdout",
     "output_type": "stream",
     "text": [
      "Q1: 10\n",
      "Q2: 6\n",
      "Q3: 2\n",
      "Q4: 2\n",
      "X-axis: 2\n",
      "Y-axis: 0\n"
     ]
    }
   ],
   "source": [
    "Q1 = 0\n",
    "Q2 = 0\n",
    "Q3 = 0\n",
    "Q4 = 0\n",
    "X_axis = 0\n",
    "Y_axis = 0\n",
    "\n",
    "for i in points:\n",
    "    if i[0] > 0 and i[1] > 0:\n",
    "        Q1 = Q1 +1\n",
    "    elif i[0] < 0 and i[1] > 0:\n",
    "        Q2 = Q2 +1\n",
    "    elif i[0] < 0 and i[1] < 0:\n",
    "        Q3 = Q3 +1\n",
    "    elif i[0] > 0 and i[1] < 0:\n",
    "        Q4 = Q4 +1\n",
    "    elif i[0] == 0:\n",
    "        X_axis += 1\n",
    "    else:\n",
    "        Y_axis += 1\n",
    "\n",
    "print (\"Q1:\", Q1)\n",
    "print (\"Q2:\", Q2)\n",
    "print (\"Q3:\", Q3)\n",
    "print (\"Q4:\", Q4)\n",
    "print (\"X-axis:\", X_axis)\n",
    "print (\"Y-axis:\", Y_axis)"
   ]
  },
  {
   "cell_type": "code",
   "execution_count": null,
   "metadata": {},
   "outputs": [],
   "source": []
  }
 ],
 "metadata": {
  "kernelspec": {
   "display_name": "Python 3",
   "language": "python",
   "name": "python3"
  },
  "language_info": {
   "codemirror_mode": {
    "name": "ipython",
    "version": 3
   },
   "file_extension": ".py",
   "mimetype": "text/x-python",
   "name": "python",
   "nbconvert_exporter": "python",
   "pygments_lexer": "ipython3",
   "version": "3.8.5"
  }
 },
 "nbformat": 4,
 "nbformat_minor": 4
}
