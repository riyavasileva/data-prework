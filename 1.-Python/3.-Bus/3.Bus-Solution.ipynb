{
 "cells": [
  {
   "cell_type": "code",
   "execution_count": 1,
   "metadata": {},
   "outputs": [],
   "source": [
    "stops = [(10, 0), (4, 1), (3, 5), (3, 4), (5, 1), (1, 5), (5, 8), (4, 6), (2, 3)]\n"
   ]
  },
  {
   "cell_type": "code",
   "execution_count": 2,
   "metadata": {},
   "outputs": [
    {
     "name": "stdout",
     "output_type": "stream",
     "text": [
      "The numbers of stops are 9 .\n"
     ]
    }
   ],
   "source": [
    "number_stops = len(stops)\n",
    "print (\"The numbers of stops are\", number_stops, \".\")"
   ]
  },
  {
   "cell_type": "code",
   "execution_count": 3,
   "metadata": {},
   "outputs": [
    {
     "name": "stdout",
     "output_type": "stream",
     "text": [
      "The bus capacity is 10\n",
      "The bus capacity is 13\n",
      "The bus capacity is 11\n",
      "The bus capacity is 10\n",
      "The bus capacity is 14\n",
      "The bus capacity is 10\n",
      "The bus capacity is 7\n",
      "The bus capacity is 5\n",
      "The bus capacity is 4\n"
     ]
    }
   ],
   "source": [
    "bus_occupation=0\n",
    "for inb, outb in stops:\n",
    "    bus_occupation+= inb - outb\n",
    "    print(\"The bus capacity is\", bus_occupation)"
   ]
  },
  {
   "cell_type": "code",
   "execution_count": 4,
   "metadata": {},
   "outputs": [
    {
     "name": "stdout",
     "output_type": "stream",
     "text": [
      "The maximum occupation of the bus is 14\n"
     ]
    }
   ],
   "source": [
    "bus_occupation_list=(10,13,11,10,14,10,7,5,4)\n",
    "\n",
    "max_occupation=max(bus_occupation_list)\n",
    "\n",
    "print (\"The maximum occupation of the bus is\", max_occupation)"
   ]
  },
  {
   "cell_type": "code",
   "execution_count": 5,
   "metadata": {},
   "outputs": [
    {
     "data": {
      "text/plain": [
       "9.333333333333334"
      ]
     },
     "execution_count": 5,
     "metadata": {},
     "output_type": "execute_result"
    }
   ],
   "source": [
    "#Average\n",
    "sum(bus_occupation_list)/len(bus_occupation_list)"
   ]
  },
  {
   "cell_type": "code",
   "execution_count": null,
   "metadata": {},
   "outputs": [],
   "source": []
  }
 ],
 "metadata": {
  "kernelspec": {
   "display_name": "Python 3",
   "language": "python",
   "name": "python3"
  },
  "language_info": {
   "codemirror_mode": {
    "name": "ipython",
    "version": 3
   },
   "file_extension": ".py",
   "mimetype": "text/x-python",
   "name": "python",
   "nbconvert_exporter": "python",
   "pygments_lexer": "ipython3",
   "version": "3.8.5"
  }
 },
 "nbformat": 4,
 "nbformat_minor": 4
}
