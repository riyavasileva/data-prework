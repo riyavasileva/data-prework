{
 "cells": [
  {
   "cell_type": "code",
   "execution_count": 1,
   "metadata": {},
   "outputs": [],
   "source": [
    "gandalf = [10, 11, 13, 30, 22, 11, 10, 33, 22, 22]\n",
    "saruman = [23, 66, 12, 43, 12, 10, 44, 23, 12, 17]\n",
    "spells= 10"
   ]
  },
  {
   "cell_type": "code",
   "execution_count": 3,
   "metadata": {},
   "outputs": [],
   "source": [
    "gandalf_wins=0\n",
    "saruman_wins=0"
   ]
  },
  {
   "cell_type": "code",
   "execution_count": 4,
   "metadata": {},
   "outputs": [
    {
     "name": "stdout",
     "output_type": "stream",
     "text": [
      "Saruman wins the battle.\n",
      "Saruman wins the battle.\n",
      "Galdalf wins the battle.\n",
      "Saruman wins the battle.\n",
      "Galdalf wins the battle.\n",
      "Galdalf wins the battle.\n",
      "Saruman wins the battle.\n",
      "Galdalf wins the battle.\n",
      "Galdalf wins the battle.\n",
      "Galdalf wins the battle.\n",
      "The total number of won battles by Gandalf are 6\n",
      "The total number of won battles by Saruman are 4\n"
     ]
    }
   ],
   "source": [
    "gandalf_wins=0\n",
    "saruman_wins=0\n",
    "\n",
    "total_wins_gandalf=0\n",
    "total_wins_saruman=0\n",
    "\n",
    "for i in range(len(gandalf)):\n",
    "    if gandalf[i] > saruman [i]:\n",
    "        total_wins_gandalf+=1\n",
    "        print (\"Galdalf wins the battle.\")\n",
    "    else:\n",
    "        total_wins_saruman+=1\n",
    "        print (\"Saruman wins the battle.\")\n",
    "        \n",
    "print (\"The total number of won battles by Gandalf are\", total_wins_gandalf)\n",
    "print (\"The total number of won battles by Saruman are\", total_wins_saruman)"
   ]
  },
  {
   "cell_type": "code",
   "execution_count": 6,
   "metadata": {},
   "outputs": [
    {
     "name": "stdout",
     "output_type": "stream",
     "text": [
      "Gandalf wins the battle!\n"
     ]
    }
   ],
   "source": [
    "if total_wins_saruman < total_wins_gandalf:\n",
    "    print(\"Gandalf wins the battle!\")\n",
    "elif total_wins_saruman > total_wins_gandalf:\n",
    "    print(\"Saruman wins the battle!\")\n",
    "else:\n",
    "    print(\"The battle ends with an epic draw!\")"
   ]
  },
  {
   "cell_type": "code",
   "execution_count": 7,
   "metadata": {},
   "outputs": [
    {
     "name": "stdout",
     "output_type": "stream",
     "text": [
      "Total gandalf wins: 4\n",
      "Total saruman wins: 6\n"
     ]
    }
   ],
   "source": [
    "#trying another way..\n",
    "\n",
    "for spells in zip(saruman, gandalf):\n",
    "    gandalf_spells = spells[0]\n",
    "    saruman_spells = spells[1]\n",
    "\n",
    "    if gandalf_spells>saruman_spells:\n",
    "        gandalf_wins += 1\n",
    "    elif saruman_spells>gandalf_spells:\n",
    "        saruman_wins += 1\n",
    "\n",
    "print(\"Total gandalf wins:\", gandalf_wins)\n",
    "print(\"Total saruman wins:\", saruman_wins)"
   ]
  },
  {
   "cell_type": "code",
   "execution_count": null,
   "metadata": {},
   "outputs": [],
   "source": []
  }
 ],
 "metadata": {
  "kernelspec": {
   "display_name": "Python 3",
   "language": "python",
   "name": "python3"
  },
  "language_info": {
   "codemirror_mode": {
    "name": "ipython",
    "version": 3
   },
   "file_extension": ".py",
   "mimetype": "text/x-python",
   "name": "python",
   "nbconvert_exporter": "python",
   "pygments_lexer": "ipython3",
   "version": "3.8.5"
  }
 },
 "nbformat": 4,
 "nbformat_minor": 4
}
